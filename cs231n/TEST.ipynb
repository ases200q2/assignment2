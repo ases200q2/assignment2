{
 "cells": [
  {
   "cell_type": "code",
   "execution_count": 4,
   "metadata": {
    "collapsed": false
   },
   "outputs": [
    {
     "name": "stdout",
     "output_type": "stream",
     "text": [
      "(2, 3, 5)\n",
      "[[ 0  1  2  3  4]\n",
      " [15 16 17 18 19]]\n",
      "29\n",
      "[29]\n",
      "(2, 3, 5)\n"
     ]
    }
   ],
   "source": [
    "import numpy as np\n",
    "a=np.arange(30).reshape(2,3,5)\n",
    "print a.shape\n",
    "print a[:,0,:]\n",
    "\n",
    "print a.max()\n",
    "dd= np.where(a==a.max())\n",
    "\n",
    "print a[dd]\n",
    "np.unravel_index(a.argmax(),a.shape)\n",
    "\n",
    "\n",
    "N = a.shape[0]\n",
    "input_shape = a.shape[1:]\n",
    "D=np.prod(input_shape)\n",
    "\n",
    "\n",
    "b=np.reshape(a,(N,D))\n",
    "c=np.reshape(b,a.shape)\n",
    "print c.shape"
   ]
  },
  {
   "cell_type": "code",
   "execution_count": null,
   "metadata": {
    "collapsed": false
   },
   "outputs": [],
   "source": [
    "x=np.array([[2,4,5],[4,4,5]])\n",
    "y=np.array([4,5,6])\n",
    "z=(x,y)\n",
    "print z[0][0][0]\n"
   ]
  },
  {
   "cell_type": "code",
   "execution_count": null,
   "metadata": {
    "collapsed": false
   },
   "outputs": [],
   "source": [
    "np.zeros(5)"
   ]
  },
  {
   "cell_type": "code",
   "execution_count": null,
   "metadata": {
    "collapsed": false
   },
   "outputs": [],
   "source": [
    "y=[2,4]\n",
    "print len(y)"
   ]
  },
  {
   "cell_type": "code",
   "execution_count": null,
   "metadata": {
    "collapsed": false
   },
   "outputs": [],
   "source": [
    "d={}\n",
    "for i in range(len(y)):\n",
    "    d['w'+str(i)]=i if i==0 else i+1\n",
    "    \n",
    "print d\n",
    "    "
   ]
  },
  {
   "cell_type": "code",
   "execution_count": null,
   "metadata": {
    "collapsed": false
   },
   "outputs": [],
   "source": [
    "L2=[i**2 for i in range(3)]\n",
    "print np.sum(L2)"
   ]
  },
  {
   "cell_type": "code",
   "execution_count": null,
   "metadata": {
    "collapsed": false
   },
   "outputs": [],
   "source": [
    "for i in range(3-1,-1,-1):\n",
    "    print i"
   ]
  },
  {
   "cell_type": "code",
   "execution_count": null,
   "metadata": {
    "collapsed": false
   },
   "outputs": [],
   "source": [
    " 10 ** uniform(-6, 1)"
   ]
  },
  {
   "cell_type": "code",
   "execution_count": null,
   "metadata": {
    "collapsed": false
   },
   "outputs": [],
   "source": [
    "H=np.random.rand(2,2) < 0.3\n",
    "print H"
   ]
  },
  {
   "cell_type": "code",
   "execution_count": null,
   "metadata": {
    "collapsed": false
   },
   "outputs": [],
   "source": [
    "U=np.array(([2,1],[2,3]))\n",
    "print U"
   ]
  },
  {
   "cell_type": "code",
   "execution_count": null,
   "metadata": {
    "collapsed": false
   },
   "outputs": [],
   "source": [
    "U*H"
   ]
  },
  {
   "cell_type": "code",
   "execution_count": 27,
   "metadata": {
    "collapsed": false
   },
   "outputs": [
    {
     "name": "stdout",
     "output_type": "stream",
     "text": [
      "[[2 6]\n",
      " [3 7]\n",
      " [3 6]]\n",
      "[[3 4 3]\n",
      " [1 2 2]]\n",
      "[1 3]\n",
      "[[ 0.  0.]\n",
      " [ 0.  0.]\n",
      " [ 0.  0.]]\n"
     ]
    }
   ],
   "source": [
    "ss=np.array(([1,3],[2,4,],[2,3]))\n",
    "bb=np.array([1,3])\n",
    "\n",
    "print ss+bb\n",
    "\n",
    "print np.rot90(ss, 1)\n",
    "\n",
    "print np.empty_like(bb)\n",
    "print np.zeros(ss.shape)\n"
   ]
  },
  {
   "cell_type": "raw",
   "metadata": {},
   "source": [
    "\n",
    "print 'ff'"
   ]
  },
  {
   "cell_type": "code",
   "execution_count": 7,
   "metadata": {
    "collapsed": false
   },
   "outputs": [
    {
     "name": "stdout",
     "output_type": "stream",
     "text": [
      "[[[[ 0.  0.  0.  0.  0.]\n",
      "   [ 0.  0.  1.  1.  0.]\n",
      "   [ 0.  0.  1.  1.  0.]\n",
      "   [ 0.  0.  1.  1.  0.]\n",
      "   [ 0.  0.  0.  0.  0.]\n",
      "   [ 0.  0.  0.  0.  0.]]\n",
      "\n",
      "  [[ 0.  0.  0.  0.  0.]\n",
      "   [ 0.  0.  1.  1.  0.]\n",
      "   [ 0.  0.  1.  1.  0.]\n",
      "   [ 0.  0.  1.  1.  0.]\n",
      "   [ 0.  0.  0.  0.  0.]\n",
      "   [ 0.  0.  0.  0.  0.]]\n",
      "\n",
      "  [[ 0.  0.  0.  0.  0.]\n",
      "   [ 0.  0.  1.  1.  0.]\n",
      "   [ 0.  0.  1.  1.  0.]\n",
      "   [ 0.  0.  1.  1.  0.]\n",
      "   [ 0.  0.  0.  0.  0.]\n",
      "   [ 0.  0.  0.  0.  0.]]]\n",
      "\n",
      "\n",
      " [[[ 0.  0.  0.  0.  0.]\n",
      "   [ 0.  0.  1.  1.  0.]\n",
      "   [ 0.  0.  1.  1.  0.]\n",
      "   [ 0.  0.  1.  1.  0.]\n",
      "   [ 0.  0.  0.  0.  0.]\n",
      "   [ 0.  0.  0.  0.  0.]]\n",
      "\n",
      "  [[ 0.  0.  0.  0.  0.]\n",
      "   [ 0.  0.  1.  1.  0.]\n",
      "   [ 0.  0.  1.  1.  0.]\n",
      "   [ 0.  0.  1.  1.  0.]\n",
      "   [ 0.  0.  0.  0.  0.]\n",
      "   [ 0.  0.  0.  0.  0.]]\n",
      "\n",
      "  [[ 0.  0.  0.  0.  0.]\n",
      "   [ 0.  0.  1.  1.  0.]\n",
      "   [ 0.  0.  1.  1.  0.]\n",
      "   [ 0.  0.  1.  1.  0.]\n",
      "   [ 0.  0.  0.  0.  0.]\n",
      "   [ 0.  0.  0.  0.  0.]]]\n",
      "\n",
      "\n",
      " [[[ 0.  0.  0.  0.  0.]\n",
      "   [ 0.  0.  1.  1.  0.]\n",
      "   [ 0.  0.  1.  1.  0.]\n",
      "   [ 0.  0.  1.  1.  0.]\n",
      "   [ 0.  0.  0.  0.  0.]\n",
      "   [ 0.  0.  0.  0.  0.]]\n",
      "\n",
      "  [[ 0.  0.  0.  0.  0.]\n",
      "   [ 0.  0.  1.  1.  0.]\n",
      "   [ 0.  0.  1.  1.  0.]\n",
      "   [ 0.  0.  1.  1.  0.]\n",
      "   [ 0.  0.  0.  0.  0.]\n",
      "   [ 0.  0.  0.  0.  0.]]\n",
      "\n",
      "  [[ 0.  0.  0.  0.  0.]\n",
      "   [ 0.  0.  1.  1.  0.]\n",
      "   [ 0.  0.  1.  1.  0.]\n",
      "   [ 0.  0.  1.  1.  0.]\n",
      "   [ 0.  0.  0.  0.  0.]\n",
      "   [ 0.  0.  0.  0.  0.]]]\n",
      "\n",
      "\n",
      " [[[ 0.  0.  0.  0.  0.]\n",
      "   [ 0.  0.  1.  1.  0.]\n",
      "   [ 0.  0.  1.  1.  0.]\n",
      "   [ 0.  0.  1.  1.  0.]\n",
      "   [ 0.  0.  0.  0.  0.]\n",
      "   [ 0.  0.  0.  0.  0.]]\n",
      "\n",
      "  [[ 0.  0.  0.  0.  0.]\n",
      "   [ 0.  0.  1.  1.  0.]\n",
      "   [ 0.  0.  1.  1.  0.]\n",
      "   [ 0.  0.  1.  1.  0.]\n",
      "   [ 0.  0.  0.  0.  0.]\n",
      "   [ 0.  0.  0.  0.  0.]]\n",
      "\n",
      "  [[ 0.  0.  0.  0.  0.]\n",
      "   [ 0.  0.  1.  1.  0.]\n",
      "   [ 0.  0.  1.  1.  0.]\n",
      "   [ 0.  0.  1.  1.  0.]\n",
      "   [ 0.  0.  0.  0.  0.]\n",
      "   [ 0.  0.  0.  0.  0.]]]\n",
      "\n",
      "\n",
      " [[[ 0.  0.  0.  0.  0.]\n",
      "   [ 0.  0.  1.  1.  0.]\n",
      "   [ 0.  0.  1.  1.  0.]\n",
      "   [ 0.  0.  1.  1.  0.]\n",
      "   [ 0.  0.  0.  0.  0.]\n",
      "   [ 0.  0.  0.  0.  0.]]\n",
      "\n",
      "  [[ 0.  0.  0.  0.  0.]\n",
      "   [ 0.  0.  1.  1.  0.]\n",
      "   [ 0.  0.  1.  1.  0.]\n",
      "   [ 0.  0.  1.  1.  0.]\n",
      "   [ 0.  0.  0.  0.  0.]\n",
      "   [ 0.  0.  0.  0.  0.]]\n",
      "\n",
      "  [[ 0.  0.  0.  0.  0.]\n",
      "   [ 0.  0.  1.  1.  0.]\n",
      "   [ 0.  0.  1.  1.  0.]\n",
      "   [ 0.  0.  1.  1.  0.]\n",
      "   [ 0.  0.  0.  0.  0.]\n",
      "   [ 0.  0.  0.  0.  0.]]]\n",
      "\n",
      "\n",
      " [[[ 0.  0.  0.  0.  0.]\n",
      "   [ 0.  0.  1.  1.  0.]\n",
      "   [ 0.  0.  1.  1.  0.]\n",
      "   [ 0.  0.  1.  1.  0.]\n",
      "   [ 0.  0.  0.  0.  0.]\n",
      "   [ 0.  0.  0.  0.  0.]]\n",
      "\n",
      "  [[ 0.  0.  0.  0.  0.]\n",
      "   [ 0.  0.  1.  1.  0.]\n",
      "   [ 0.  0.  1.  1.  0.]\n",
      "   [ 0.  0.  1.  1.  0.]\n",
      "   [ 0.  0.  0.  0.  0.]\n",
      "   [ 0.  0.  0.  0.  0.]]\n",
      "\n",
      "  [[ 0.  0.  0.  0.  0.]\n",
      "   [ 0.  0.  1.  1.  0.]\n",
      "   [ 0.  0.  1.  1.  0.]\n",
      "   [ 0.  0.  1.  1.  0.]\n",
      "   [ 0.  0.  0.  0.  0.]\n",
      "   [ 0.  0.  0.  0.  0.]]]\n",
      "\n",
      "\n",
      " [[[ 0.  0.  0.  0.  0.]\n",
      "   [ 0.  0.  1.  1.  0.]\n",
      "   [ 0.  0.  1.  1.  0.]\n",
      "   [ 0.  0.  1.  1.  0.]\n",
      "   [ 0.  0.  0.  0.  0.]\n",
      "   [ 0.  0.  0.  0.  0.]]\n",
      "\n",
      "  [[ 0.  0.  0.  0.  0.]\n",
      "   [ 0.  0.  1.  1.  0.]\n",
      "   [ 0.  0.  1.  1.  0.]\n",
      "   [ 0.  0.  1.  1.  0.]\n",
      "   [ 0.  0.  0.  0.  0.]\n",
      "   [ 0.  0.  0.  0.  0.]]\n",
      "\n",
      "  [[ 0.  0.  0.  0.  0.]\n",
      "   [ 0.  0.  1.  1.  0.]\n",
      "   [ 0.  0.  1.  1.  0.]\n",
      "   [ 0.  0.  1.  1.  0.]\n",
      "   [ 0.  0.  0.  0.  0.]\n",
      "   [ 0.  0.  0.  0.  0.]]]\n",
      "\n",
      "\n",
      " [[[ 0.  0.  0.  0.  0.]\n",
      "   [ 0.  0.  1.  1.  0.]\n",
      "   [ 0.  0.  1.  1.  0.]\n",
      "   [ 0.  0.  1.  1.  0.]\n",
      "   [ 0.  0.  0.  0.  0.]\n",
      "   [ 0.  0.  0.  0.  0.]]\n",
      "\n",
      "  [[ 0.  0.  0.  0.  0.]\n",
      "   [ 0.  0.  1.  1.  0.]\n",
      "   [ 0.  0.  1.  1.  0.]\n",
      "   [ 0.  0.  1.  1.  0.]\n",
      "   [ 0.  0.  0.  0.  0.]\n",
      "   [ 0.  0.  0.  0.  0.]]\n",
      "\n",
      "  [[ 0.  0.  0.  0.  0.]\n",
      "   [ 0.  0.  1.  1.  0.]\n",
      "   [ 0.  0.  1.  1.  0.]\n",
      "   [ 0.  0.  1.  1.  0.]\n",
      "   [ 0.  0.  0.  0.  0.]\n",
      "   [ 0.  0.  0.  0.  0.]]]\n",
      "\n",
      "\n",
      " [[[ 0.  0.  0.  0.  0.]\n",
      "   [ 0.  0.  1.  1.  0.]\n",
      "   [ 0.  0.  1.  1.  0.]\n",
      "   [ 0.  0.  1.  1.  0.]\n",
      "   [ 0.  0.  0.  0.  0.]\n",
      "   [ 0.  0.  0.  0.  0.]]\n",
      "\n",
      "  [[ 0.  0.  0.  0.  0.]\n",
      "   [ 0.  0.  1.  1.  0.]\n",
      "   [ 0.  0.  1.  1.  0.]\n",
      "   [ 0.  0.  1.  1.  0.]\n",
      "   [ 0.  0.  0.  0.  0.]\n",
      "   [ 0.  0.  0.  0.  0.]]\n",
      "\n",
      "  [[ 0.  0.  0.  0.  0.]\n",
      "   [ 0.  0.  1.  1.  0.]\n",
      "   [ 0.  0.  1.  1.  0.]\n",
      "   [ 0.  0.  1.  1.  0.]\n",
      "   [ 0.  0.  0.  0.  0.]\n",
      "   [ 0.  0.  0.  0.  0.]]]\n",
      "\n",
      "\n",
      " [[[ 0.  0.  0.  0.  0.]\n",
      "   [ 0.  0.  1.  1.  0.]\n",
      "   [ 0.  0.  1.  1.  0.]\n",
      "   [ 0.  0.  1.  1.  0.]\n",
      "   [ 0.  0.  0.  0.  0.]\n",
      "   [ 0.  0.  0.  0.  0.]]\n",
      "\n",
      "  [[ 0.  0.  0.  0.  0.]\n",
      "   [ 0.  0.  1.  1.  0.]\n",
      "   [ 0.  0.  1.  1.  0.]\n",
      "   [ 0.  0.  1.  1.  0.]\n",
      "   [ 0.  0.  0.  0.  0.]\n",
      "   [ 0.  0.  0.  0.  0.]]\n",
      "\n",
      "  [[ 0.  0.  0.  0.  0.]\n",
      "   [ 0.  0.  1.  1.  0.]\n",
      "   [ 0.  0.  1.  1.  0.]\n",
      "   [ 0.  0.  1.  1.  0.]\n",
      "   [ 0.  0.  0.  0.  0.]\n",
      "   [ 0.  0.  0.  0.  0.]]]]\n"
     ]
    }
   ],
   "source": [
    "a = np.ones((10,3,3,2))\n",
    "npad = ((0,0),(0,0), (1,2), (2,1))\n",
    "\n",
    "b = np.pad(a, pad_width=npad, mode='constant', constant_values=0)\n",
    "print b"
   ]
  },
  {
   "cell_type": "code",
   "execution_count": 8,
   "metadata": {
    "collapsed": false
   },
   "outputs": [
    {
     "ename": "TypeError",
     "evalue": "'NoneType' object does not support item assignment",
     "output_type": "error",
     "traceback": [
      "\u001b[0;31m---------------------------------------------------------------------------\u001b[0m",
      "\u001b[0;31mTypeError\u001b[0m                                 Traceback (most recent call last)",
      "\u001b[0;32m<ipython-input-8-81f967fbd262>\u001b[0m in \u001b[0;36m<module>\u001b[0;34m()\u001b[0m\n\u001b[1;32m      1\u001b[0m \u001b[0mff\u001b[0m\u001b[0;34m=\u001b[0m\u001b[0mNone\u001b[0m\u001b[0;34m\u001b[0m\u001b[0m\n\u001b[0;32m----> 2\u001b[0;31m \u001b[0mff\u001b[0m\u001b[0;34m[\u001b[0m\u001b[0;36m1\u001b[0m\u001b[0;34m]\u001b[0m\u001b[0;34m=\u001b[0m\u001b[0;36m2\u001b[0m\u001b[0;34m\u001b[0m\u001b[0m\n\u001b[0m",
      "\u001b[0;31mTypeError\u001b[0m: 'NoneType' object does not support item assignment"
     ]
    }
   ],
   "source": [
    "ff=None\n",
    "ff[1]=2"
   ]
  },
  {
   "cell_type": "code",
   "execution_count": 20,
   "metadata": {
    "collapsed": false
   },
   "outputs": [
    {
     "data": {
      "text/plain": [
       "array([ 0.,  0.])"
      ]
     },
     "execution_count": 20,
     "metadata": {},
     "output_type": "execute_result"
    }
   ],
   "source": [
    "s=np.zeros(([3,2,2,3],))\n",
    "s[1,:,1,2]"
   ]
  },
  {
   "cell_type": "code",
   "execution_count": 22,
   "metadata": {
    "collapsed": false
   },
   "outputs": [
    {
     "ename": "NameError",
     "evalue": "name 'F' is not defined",
     "output_type": "error",
     "traceback": [
      "\u001b[0;31m---------------------------------------------------------------------------\u001b[0m",
      "\u001b[0;31mNameError\u001b[0m                                 Traceback (most recent call last)",
      "\u001b[0;32m<ipython-input-22-63f8510dca9b>\u001b[0m in \u001b[0;36m<module>\u001b[0;34m()\u001b[0m\n\u001b[1;32m      1\u001b[0m \u001b[0;32mfor\u001b[0m \u001b[0mi\u001b[0m \u001b[0;32min\u001b[0m \u001b[0mrange\u001b[0m\u001b[0;34m(\u001b[0m\u001b[0mN\u001b[0m\u001b[0;34m)\u001b[0m\u001b[0;34m:\u001b[0m\u001b[0;34m\u001b[0m\u001b[0m\n\u001b[0;32m----> 2\u001b[0;31m     \u001b[0;32mfor\u001b[0m \u001b[0mf\u001b[0m \u001b[0;32min\u001b[0m \u001b[0mrange\u001b[0m\u001b[0;34m(\u001b[0m\u001b[0mF\u001b[0m\u001b[0;34m)\u001b[0m\u001b[0;34m:\u001b[0m\u001b[0;34m\u001b[0m\u001b[0m\n\u001b[0m\u001b[1;32m      3\u001b[0m           \u001b[0;32mfor\u001b[0m \u001b[0mh\u001b[0m \u001b[0;32min\u001b[0m \u001b[0mrange\u001b[0m\u001b[0;34m(\u001b[0m\u001b[0mH\u001b[0m\u001b[0;34m)\u001b[0m\u001b[0;34m:\u001b[0m\u001b[0;34m\u001b[0m\u001b[0m\n\u001b[1;32m      4\u001b[0m                 \u001b[0;32mfor\u001b[0m \u001b[0mk\u001b[0m \u001b[0;32min\u001b[0m \u001b[0mrange\u001b[0m\u001b[0;34m(\u001b[0m\u001b[0mW\u001b[0m\u001b[0;34m)\u001b[0m\u001b[0;34m:\u001b[0m\u001b[0;34m\u001b[0m\u001b[0m\n\u001b[1;32m      5\u001b[0m                     \u001b[0;32mfor\u001b[0m \u001b[0mc\u001b[0m \u001b[0;32min\u001b[0m \u001b[0mrange\u001b[0m\u001b[0;34m(\u001b[0m\u001b[0mCC\u001b[0m\u001b[0;34m)\u001b[0m\u001b[0;34m:\u001b[0m\u001b[0;34m\u001b[0m\u001b[0m\n",
      "\u001b[0;31mNameError\u001b[0m: name 'F' is not defined"
     ]
    }
   ],
   "source": [
    "\n",
    "                            \n",
    "                            \n",
    "                            \n",
    "                            \n",
    "                            "
   ]
  },
  {
   "cell_type": "code",
   "execution_count": 1,
   "metadata": {
    "collapsed": false
   },
   "outputs": [
    {
     "ename": "NameError",
     "evalue": "name 'N' is not defined",
     "output_type": "error",
     "traceback": [
      "\u001b[0;31m---------------------------------------------------------------------------\u001b[0m",
      "\u001b[0;31mNameError\u001b[0m                                 Traceback (most recent call last)",
      "\u001b[0;32m<ipython-input-1-121e92d30bb6>\u001b[0m in \u001b[0;36m<module>\u001b[0;34m()\u001b[0m\n\u001b[0;32m----> 1\u001b[0;31m \u001b[0;32mfor\u001b[0m \u001b[0mi\u001b[0m \u001b[0;32min\u001b[0m \u001b[0mrange\u001b[0m\u001b[0;34m(\u001b[0m\u001b[0mN\u001b[0m\u001b[0;34m)\u001b[0m\u001b[0;34m:\u001b[0m\u001b[0;34m\u001b[0m\u001b[0m\n\u001b[0m\u001b[1;32m      2\u001b[0m     \u001b[0;32mfor\u001b[0m \u001b[0mf\u001b[0m \u001b[0;32min\u001b[0m \u001b[0mrange\u001b[0m\u001b[0;34m(\u001b[0m\u001b[0mF\u001b[0m\u001b[0;34m)\u001b[0m\u001b[0;34m:\u001b[0m\u001b[0;34m\u001b[0m\u001b[0m\n\u001b[1;32m      3\u001b[0m         \u001b[0;32mfor\u001b[0m \u001b[0mh\u001b[0m \u001b[0;32min\u001b[0m \u001b[0mrange\u001b[0m\u001b[0;34m(\u001b[0m\u001b[0mHH\u001b[0m\u001b[0;34m)\u001b[0m\u001b[0;34m:\u001b[0m\u001b[0;34m\u001b[0m\u001b[0m\n\u001b[1;32m      4\u001b[0m               \u001b[0;32mfor\u001b[0m \u001b[0mk\u001b[0m \u001b[0;32min\u001b[0m \u001b[0mrange\u001b[0m\u001b[0;34m(\u001b[0m\u001b[0mWW\u001b[0m\u001b[0;34m)\u001b[0m\u001b[0;34m:\u001b[0m\u001b[0;34m\u001b[0m\u001b[0m\n\u001b[1;32m      5\u001b[0m                   \u001b[0;32mfor\u001b[0m \u001b[0mc\u001b[0m \u001b[0;32min\u001b[0m \u001b[0mrange\u001b[0m\u001b[0;34m(\u001b[0m\u001b[0mCC\u001b[0m\u001b[0;34m)\u001b[0m\u001b[0;34m:\u001b[0m\u001b[0;34m\u001b[0m\u001b[0m\n",
      "\u001b[0;31mNameError\u001b[0m: name 'N' is not defined"
     ]
    }
   ],
   "source": [
    "  for i in range(N):\n",
    "      for f in range(F):\n",
    "          for h in range(HH):\n",
    "                for k in range(WW):\n",
    "                    for c in range(CC):\n",
    "                       #dw[f,c, :, : ] += x_pad[i,c,(h*stride):HH+(h*stride),(k*stride):WW+(k*stride)]*\n",
    "                           dw[f,c, h, k]+=np.sum(x_pad[i,c,(h*stride):H_+(h*stride),(k*stride):W_+(k*stride)]* dout[i,f])\n",
    "                    \n",
    "                       #print dw[f,c, h*HH:(h+1)*HH, k*WW:(k+1)*WW].shape\n",
    "                       #print x_pad[i,c,(h*stride):HH+(h*stride),(k*stride):WW+(k*stride)].shape "
   ]
  },
  {
   "cell_type": "code",
   "execution_count": 1,
   "metadata": {
    "collapsed": false
   },
   "outputs": [
    {
     "ename": "NameError",
     "evalue": "name 'N' is not defined",
     "output_type": "error",
     "traceback": [
      "\u001b[0;31m---------------------------------------------------------------------------\u001b[0m",
      "\u001b[0;31mNameError\u001b[0m                                 Traceback (most recent call last)",
      "\u001b[0;32m<ipython-input-1-1578658be9a0>\u001b[0m in \u001b[0;36m<module>\u001b[0;34m()\u001b[0m\n\u001b[0;32m----> 1\u001b[0;31m \u001b[0;32mfor\u001b[0m \u001b[0mi\u001b[0m \u001b[0;32min\u001b[0m \u001b[0mrange\u001b[0m\u001b[0;34m(\u001b[0m\u001b[0mN\u001b[0m\u001b[0;34m)\u001b[0m\u001b[0;34m:\u001b[0m\u001b[0;34m\u001b[0m\u001b[0m\n\u001b[0m\u001b[1;32m      2\u001b[0m     \u001b[0;32mfor\u001b[0m \u001b[0mf\u001b[0m \u001b[0;32min\u001b[0m \u001b[0mrange\u001b[0m\u001b[0;34m(\u001b[0m\u001b[0mF\u001b[0m\u001b[0;34m)\u001b[0m\u001b[0;34m:\u001b[0m\u001b[0;34m\u001b[0m\u001b[0m\n\u001b[1;32m      3\u001b[0m         \u001b[0;32mfor\u001b[0m \u001b[0mc\u001b[0m \u001b[0;32min\u001b[0m \u001b[0mrange\u001b[0m\u001b[0;34m(\u001b[0m\u001b[0mCC\u001b[0m\u001b[0;34m)\u001b[0m\u001b[0;34m:\u001b[0m\u001b[0;34m\u001b[0m\u001b[0m\n\u001b[1;32m      4\u001b[0m             \u001b[0;32mfor\u001b[0m \u001b[0mh\u001b[0m \u001b[0;32min\u001b[0m \u001b[0mrange\u001b[0m\u001b[0;34m(\u001b[0m\u001b[0mHH\u001b[0m\u001b[0;34m)\u001b[0m\u001b[0;34m:\u001b[0m\u001b[0;34m\u001b[0m\u001b[0m\n\u001b[1;32m      5\u001b[0m                 \u001b[0;32mfor\u001b[0m \u001b[0mk\u001b[0m \u001b[0;32min\u001b[0m \u001b[0mrange\u001b[0m\u001b[0;34m(\u001b[0m\u001b[0mWW\u001b[0m\u001b[0;34m)\u001b[0m\u001b[0;34m:\u001b[0m\u001b[0;34m\u001b[0m\u001b[0m\n",
      "\u001b[0;31mNameError\u001b[0m: name 'N' is not defined"
     ]
    }
   ],
   "source": [
    "  for i in range(N):\n",
    "      for f in range(F):\n",
    "          for c in range(CC):\n",
    "              for h in range(HH):\n",
    "                  for k in range(WW):             \n",
    "                      dw[f,c, h, k]+=np.sum(dout_pad[i,f,(h*stride):H+(h*stride),(k*stride):W+(k*stride)]* x_r[i,c])"
   ]
  },
  {
   "cell_type": "code",
   "execution_count": 2,
   "metadata": {
    "collapsed": false
   },
   "outputs": [
    {
     "ename": "NameError",
     "evalue": "name 'N' is not defined",
     "output_type": "error",
     "traceback": [
      "\u001b[0;31m---------------------------------------------------------------------------\u001b[0m",
      "\u001b[0;31mNameError\u001b[0m                                 Traceback (most recent call last)",
      "\u001b[0;32m<ipython-input-2-1c7c3f419405>\u001b[0m in \u001b[0;36m<module>\u001b[0;34m()\u001b[0m\n\u001b[0;32m----> 1\u001b[0;31m \u001b[0;32mfor\u001b[0m \u001b[0mi\u001b[0m \u001b[0;32min\u001b[0m \u001b[0mrange\u001b[0m\u001b[0;34m(\u001b[0m\u001b[0mN\u001b[0m\u001b[0;34m)\u001b[0m\u001b[0;34m:\u001b[0m\u001b[0;34m\u001b[0m\u001b[0m\n\u001b[0m\u001b[1;32m      2\u001b[0m     \u001b[0;32mfor\u001b[0m \u001b[0mf\u001b[0m \u001b[0;32min\u001b[0m \u001b[0mrange\u001b[0m\u001b[0;34m(\u001b[0m\u001b[0mF\u001b[0m\u001b[0;34m)\u001b[0m\u001b[0;34m:\u001b[0m\u001b[0;34m\u001b[0m\u001b[0m\n\u001b[1;32m      3\u001b[0m         \u001b[0;32mfor\u001b[0m \u001b[0mc\u001b[0m \u001b[0;32min\u001b[0m \u001b[0mrange\u001b[0m\u001b[0;34m(\u001b[0m\u001b[0mCC\u001b[0m\u001b[0;34m)\u001b[0m\u001b[0;34m:\u001b[0m\u001b[0;34m\u001b[0m\u001b[0m\n\u001b[1;32m      4\u001b[0m             \u001b[0;32mfor\u001b[0m \u001b[0mh\u001b[0m \u001b[0;32min\u001b[0m \u001b[0mrange\u001b[0m\u001b[0;34m(\u001b[0m\u001b[0mHH\u001b[0m\u001b[0;34m)\u001b[0m\u001b[0;34m:\u001b[0m\u001b[0;34m\u001b[0m\u001b[0m\n\u001b[1;32m      5\u001b[0m                 \u001b[0;32mfor\u001b[0m \u001b[0mk\u001b[0m \u001b[0;32min\u001b[0m \u001b[0mrange\u001b[0m\u001b[0;34m(\u001b[0m\u001b[0mWW\u001b[0m\u001b[0;34m)\u001b[0m\u001b[0;34m:\u001b[0m\u001b[0;34m\u001b[0m\u001b[0m\n",
      "\u001b[0;31mNameError\u001b[0m: name 'N' is not defined"
     ]
    }
   ],
   "source": [
    "  for i in range(N):\n",
    "      for f in range(F):\n",
    "          for c in range(CC):\n",
    "              for h in range(HH):\n",
    "                  for k in range(WW):             \n",
    "                      dw[f,c, h, k]+=np.sum(x_pad[i,c,(h*stride):H+(h*stride),(k*stride):W+(k*stride)]* dout_r[i,f]) "
   ]
  },
  {
   "cell_type": "code",
   "execution_count": null,
   "metadata": {
    "collapsed": true
   },
   "outputs": [],
   "source": []
  },
  {
   "cell_type": "code",
   "execution_count": 23,
   "metadata": {
    "collapsed": false
   },
   "outputs": [
    {
     "name": "stdout",
     "output_type": "stream",
     "text": [
      "[[ 2  4  6  7  4  2  4  6  7  8]\n",
      " [ 1  2  3  4  5  6  7  8  9 19]\n",
      " [ 3  2  1  5  5  6  7  8  9 19]]\n",
      "[[2 6]\n",
      " [3 1]]\n",
      "next\n",
      "[[4 7]\n",
      " [2 5]]\n",
      "next\n",
      "[[6 4]\n",
      " [1 5]]\n",
      "next\n",
      "[[7 2]\n",
      " [5 6]]\n",
      "next\n",
      "[[4 4]\n",
      " [5 7]]\n",
      "next\n",
      "[[2 6]\n",
      " [6 8]]\n",
      "next\n",
      "[[4 7]\n",
      " [7 9]]\n",
      "next\n",
      "[[ 6  8]\n",
      " [ 8 19]]\n",
      "next\n",
      "[[7]\n",
      " [9]]\n",
      "next\n",
      "[[ 8]\n",
      " [19]]\n",
      "next\n",
      "[[1 3]]\n",
      "next\n",
      "[[2 4]]\n",
      "next\n",
      "[[3 5]]\n",
      "next\n",
      "[[4 6]]\n",
      "next\n",
      "[[5 7]]\n",
      "next\n",
      "[[6 8]]\n",
      "next\n",
      "[[7 9]]\n",
      "next\n",
      "[[ 8 19]]\n",
      "next\n",
      "[[9]]\n",
      "next\n",
      "[[19]]\n",
      "next\n",
      "[[3 1]]\n",
      "next\n",
      "[[2 5]]\n",
      "next\n",
      "[[1 5]]\n",
      "next\n",
      "[[5 6]]\n",
      "next\n",
      "[[5 7]]\n",
      "next\n",
      "[[6 8]]\n",
      "next\n",
      "[[7 9]]\n",
      "next\n",
      "[[ 8 19]]\n",
      "next\n",
      "[[9]]\n",
      "next\n",
      "[[19]]\n",
      "next\n"
     ]
    }
   ],
   "source": [
    "a=np.array(([2,4,6,7,4,2,4,6,7,8],[1,2,3,4,5,6,7,8,9,19],[3,2,1,5,5,6,7,8,9,19]))\n",
    "print a\n",
    "st=2\n",
    "for h in range(a.shape[0]):\n",
    "    for w in range(a.shape[1]):\n",
    "        print a[h:h+2*st:st,w:w+2*st:st]\n",
    "        print 'next'\n"
   ]
  },
  {
   "cell_type": "code",
   "execution_count": 24,
   "metadata": {
    "collapsed": false
   },
   "outputs": [
    {
     "ename": "NameError",
     "evalue": "name 'F' is not defined",
     "output_type": "error",
     "traceback": [
      "\u001b[0;31m---------------------------------------------------------------------------\u001b[0m",
      "\u001b[0;31mNameError\u001b[0m                                 Traceback (most recent call last)",
      "\u001b[0;32m<ipython-input-24-8fd66b95743d>\u001b[0m in \u001b[0;36m<module>\u001b[0;34m()\u001b[0m\n\u001b[1;32m      1\u001b[0m \u001b[0;32mfor\u001b[0m \u001b[0mi\u001b[0m \u001b[0;32min\u001b[0m \u001b[0mrange\u001b[0m\u001b[0;34m(\u001b[0m\u001b[0mN\u001b[0m\u001b[0;34m)\u001b[0m\u001b[0;34m:\u001b[0m\u001b[0;34m\u001b[0m\u001b[0m\n\u001b[0;32m----> 2\u001b[0;31m     \u001b[0;32mfor\u001b[0m \u001b[0mf\u001b[0m \u001b[0;32min\u001b[0m \u001b[0mrange\u001b[0m\u001b[0;34m(\u001b[0m\u001b[0mF\u001b[0m\u001b[0;34m)\u001b[0m\u001b[0;34m:\u001b[0m\u001b[0;34m\u001b[0m\u001b[0m\n\u001b[0m\u001b[1;32m      3\u001b[0m         \u001b[0;32mfor\u001b[0m \u001b[0mc\u001b[0m \u001b[0;32min\u001b[0m \u001b[0mrange\u001b[0m\u001b[0;34m(\u001b[0m\u001b[0mCC\u001b[0m\u001b[0;34m)\u001b[0m\u001b[0;34m:\u001b[0m\u001b[0;34m\u001b[0m\u001b[0m\n\u001b[1;32m      4\u001b[0m             \u001b[0;32mfor\u001b[0m \u001b[0mh\u001b[0m \u001b[0;32min\u001b[0m \u001b[0mrange\u001b[0m\u001b[0;34m(\u001b[0m\u001b[0mHH\u001b[0m\u001b[0;34m)\u001b[0m\u001b[0;34m:\u001b[0m\u001b[0;34m\u001b[0m\u001b[0m\n\u001b[1;32m      5\u001b[0m                 \u001b[0;32mfor\u001b[0m \u001b[0mk\u001b[0m \u001b[0;32min\u001b[0m \u001b[0mrange\u001b[0m\u001b[0;34m(\u001b[0m\u001b[0mWW\u001b[0m\u001b[0;34m)\u001b[0m\u001b[0;34m:\u001b[0m\u001b[0;34m\u001b[0m\u001b[0m\n",
      "\u001b[0;31mNameError\u001b[0m: name 'F' is not defined"
     ]
    }
   ],
   "source": [
    "  for i in range(N):\n",
    "      for f in range(F):\n",
    "          for c in range(CC):\n",
    "              for h in range(HH):\n",
    "                  for k in range(WW):             \n",
    "                      dw[f,c, h, k]+=np.sum(x_pad[i,c,(h*stride):H_+(h*stride),(k*stride):W_+(k*stride)]* dout[i,f])  "
   ]
  },
  {
   "cell_type": "code",
   "execution_count": 25,
   "metadata": {
    "collapsed": false
   },
   "outputs": [
    {
     "ename": "NameError",
     "evalue": "name 'F' is not defined",
     "output_type": "error",
     "traceback": [
      "\u001b[0;31m---------------------------------------------------------------------------\u001b[0m",
      "\u001b[0;31mNameError\u001b[0m                                 Traceback (most recent call last)",
      "\u001b[0;32m<ipython-input-25-39a9f14e3f13>\u001b[0m in \u001b[0;36m<module>\u001b[0;34m()\u001b[0m\n\u001b[1;32m      1\u001b[0m \u001b[0;32mfor\u001b[0m \u001b[0mi\u001b[0m \u001b[0;32min\u001b[0m \u001b[0mrange\u001b[0m\u001b[0;34m(\u001b[0m\u001b[0mN\u001b[0m\u001b[0;34m)\u001b[0m\u001b[0;34m:\u001b[0m\u001b[0;34m\u001b[0m\u001b[0m\n\u001b[0;32m----> 2\u001b[0;31m   \u001b[0;32mfor\u001b[0m \u001b[0mf\u001b[0m \u001b[0;32min\u001b[0m \u001b[0mrange\u001b[0m\u001b[0;34m(\u001b[0m\u001b[0mF\u001b[0m\u001b[0;34m)\u001b[0m\u001b[0;34m:\u001b[0m\u001b[0;34m\u001b[0m\u001b[0m\n\u001b[0m\u001b[1;32m      3\u001b[0m       \u001b[0;32mfor\u001b[0m \u001b[0mh\u001b[0m \u001b[0;32min\u001b[0m \u001b[0mrange\u001b[0m\u001b[0;34m(\u001b[0m\u001b[0mH\u001b[0m\u001b[0;34m)\u001b[0m\u001b[0;34m:\u001b[0m\u001b[0;34m\u001b[0m\u001b[0m\n\u001b[1;32m      4\u001b[0m           \u001b[0;32mfor\u001b[0m \u001b[0mk\u001b[0m \u001b[0;32min\u001b[0m \u001b[0mrange\u001b[0m\u001b[0;34m(\u001b[0m\u001b[0mW\u001b[0m\u001b[0;34m)\u001b[0m\u001b[0;34m:\u001b[0m\u001b[0;34m\u001b[0m\u001b[0m\n\u001b[1;32m      5\u001b[0m               \u001b[0;32mfor\u001b[0m \u001b[0mc\u001b[0m \u001b[0;32min\u001b[0m \u001b[0mrange\u001b[0m\u001b[0;34m(\u001b[0m\u001b[0mC\u001b[0m\u001b[0;34m)\u001b[0m\u001b[0;34m:\u001b[0m\u001b[0;34m\u001b[0m\u001b[0m\n",
      "\u001b[0;31mNameError\u001b[0m: name 'F' is not defined"
     ]
    }
   ],
   "source": [
    "  for i in range(N):\n",
    "    for f in range(F):\n",
    "        for h in range(H):\n",
    "            for k in range(W):\n",
    "                for c in range(C):\n",
    "                   dx[i,c, h, k]+=np.sum(dout_pad[i,f,h:h+HH*stride:stride,k:k+WW*stride:stride]* w_r[f,c])  "
   ]
  },
  {
   "cell_type": "code",
   "execution_count": null,
   "metadata": {
    "collapsed": true
   },
   "outputs": [],
   "source": []
  }
 ],
 "metadata": {
  "kernelspec": {
   "display_name": "Python 2",
   "language": "python",
   "name": "python2"
  },
  "language_info": {
   "codemirror_mode": {
    "name": "ipython",
    "version": 2
   },
   "file_extension": ".py",
   "mimetype": "text/x-python",
   "name": "python",
   "nbconvert_exporter": "python",
   "pygments_lexer": "ipython2",
   "version": "2.7.5"
  }
 },
 "nbformat": 4,
 "nbformat_minor": 0
}
